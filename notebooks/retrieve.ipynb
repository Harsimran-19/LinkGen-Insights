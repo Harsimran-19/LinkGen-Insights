{
 "cells": [
  {
   "cell_type": "code",
   "execution_count": 1,
   "metadata": {},
   "outputs": [
    {
     "name": "stdout",
     "output_type": "stream",
     "text": [
      "The autoreload extension is already loaded. To reload it, use:\n",
      "  %reload_ext autoreload\n"
     ]
    }
   ],
   "source": [
    "%reload_ext autoreload\n",
    "%load_ext autoreload\n",
    "%autoreload 2\n"
   ]
  },
  {
   "cell_type": "code",
   "execution_count": 2,
   "metadata": {},
   "outputs": [
    {
     "name": "stderr",
     "output_type": "stream",
     "text": [
      "d:\\OpenSource\\real-time-retrieval\\real_time_pipeline\\venv\\lib\\site-packages\\sentence_transformers\\cross_encoder\\CrossEncoder.py:13: TqdmWarning: IProgress not found. Please update jupyter and ipywidgets. See https://ipywidgets.readthedocs.io/en/stable/user_install.html\n",
      "  from tqdm.autonotebook import tqdm, trange\n"
     ]
    }
   ],
   "source": [
    "from src.embedding import EmbeddingModelSingleton, CrossEncoderModelSingleton\n",
    "from src.qdrant import build_qdrant_client\n",
    "from src.retriever import QdrantVectorDBRetriever,RetrievalVisualizer\n",
    "from src.flow import build as build_flow\n",
    "from bytewax.testing import run_main\n",
    "from langchain_together import Together\n",
    "from pprint import pprint"
   ]
  },
  {
   "cell_type": "code",
   "execution_count": 3,
   "metadata": {},
   "outputs": [
    {
     "name": "stdout",
     "output_type": "stream",
     "text": [
      "{'url': 'localhost:6333'}\n"
     ]
    }
   ],
   "source": [
    "embedding_model = EmbeddingModelSingleton()\n",
    "cross_encode_model = CrossEncoderModelSingleton()\n",
    "qdrant_client = build_qdrant_client()\n",
    "\n",
    "vectordb_retriever = QdrantVectorDBRetriever(\n",
    "    embedding_model=embedding_model,\n",
    "    cross_encoder_model=cross_encode_model,\n",
    "    vector_db_client=qdrant_client\n",
    ")"
   ]
  },
  {
   "cell_type": "code",
   "execution_count": 31,
   "metadata": {},
   "outputs": [],
   "source": [
    "# import os\n",
    "# data_source_path = [f\"data/{p}\" for p in os.listdir(\"data\")]\n",
    "# flow = build_flow(in_memory=False, data_source_path=data_source_path)\n",
    "# run_main(flow)"
   ]
  },
  {
   "cell_type": "code",
   "execution_count": 4,
   "metadata": {},
   "outputs": [],
   "source": [
    "all_posts = vectordb_retriever.scroll()"
   ]
  },
  {
   "cell_type": "code",
   "execution_count": 9,
   "metadata": {},
   "outputs": [
    {
     "name": "stderr",
     "output_type": "stream",
     "text": [
      "d:\\OpenSource\\real-time-retrieval\\real_time_pipeline\\venv\\lib\\site-packages\\umap\\umap_.py:1945: UserWarning: n_jobs value 1 overridden to 1 by setting random_state. Use no seed for parallelism.\n",
      "  warn(f\"n_jobs value {self.n_jobs} overridden to 1 by setting random_state. Use no seed for parallelism.\")\n",
      "100%|██████████| 230/230 [03:38<00:00,  1.05it/s]\n"
     ]
    }
   ],
   "source": [
    "visualizer = RetrievalVisualizer(posts=all_posts)"
   ]
  },
  {
   "cell_type": "code",
   "execution_count": 8,
   "metadata": {},
   "outputs": [
    {
     "name": "stdout",
     "output_type": "stream",
     "text": [
      "before \n",
      "after \n"
     ]
    },
    {
     "name": "stderr",
     "output_type": "stream",
     "text": [
      "d:\\OpenSource\\real-time-retrieval\\real_time_pipeline\\venv\\lib\\site-packages\\langsmith\\client.py:354: LangSmithMissingAPIKeyWarning: API key must be provided when using hosted LangSmith API\n",
      "  warnings.warn(\n",
      "d:\\OpenSource\\real-time-retrieval\\real_time_pipeline\\venv\\lib\\site-packages\\langchain_together\\llms.py:89: UserWarning: The completions endpoint, has 'max_tokens' as required argument. The default value is being set to 200 Consider setting this value, when initializing LLM\n",
      "  warnings.warn(\n"
     ]
    }
   ],
   "source": [
    "from langchain_core.retrievers import BaseRetriever\n",
    "from langchain import hub\n",
    "from langchain_core.output_parsers import StrOutputParser\n",
    "from langchain_core.runnables import RunnablePassthrough\n",
    "from langchain_core.documents import Document\n",
    "from pydantic import PrivateAttr\n",
    "from typing import List\n",
    "\n",
    "class LangChainQdrantRetriever(BaseRetriever):\n",
    "    \n",
    "    def set_retriever(self, retriever):\n",
    "        \"\"\"Method to set the retriever after initialization, bypassing Pydantic's validation.\"\"\"\n",
    "        self._retriever = retriever\n",
    "\n",
    "    # Implement the required method _get_relevant_documents\n",
    "    def _get_relevant_documents(self, query: str) -> List[Document]:\n",
    "        # Use the existing search function from your retriever and format the result as List[Document]\n",
    "        results = self._retriever.search(query, return_all=False)\n",
    "        return [Document(page_content=doc.text) for doc in results]\n",
    "\n",
    "# Example retriever object (replace with your real QdrantVectorDBRetriever)\n",
    "retriever = LangChainQdrantRetriever()\n",
    "print('before',retriever)\n",
    "retriever.set_retriever(vectordb_retriever)\n",
    "print('after',retriever)\n",
    "\n",
    "# Pull the RAG prompt from langchain hub\n",
    "prompt = hub.pull(\"rlm/rag-prompt\")\n",
    "\n",
    "# Function to format the documents retrieved\n",
    "def format_docs(docs):\n",
    "    return \"\\n\\n\".join(doc.page_content for doc in docs)\n",
    "llm = Together(\n",
    "    model=\"meta-llama/Meta-Llama-3.1-8B-Instruct-Turbo\",\n",
    "    together_api_key=\"8969731d768db64b1406eaa5e70bae31bcb4cbf57719295a03aed2ebfa45fe51\"\n",
    ")\n",
    "\n",
    "# Define the RAG chain\n",
    "rag_chain = (\n",
    "    {\"context\": retriever | format_docs, \"question\": RunnablePassthrough()}\n",
    "    | prompt\n",
    "    | llm\n",
    "    | StrOutputParser()\n",
    ")\n"
   ]
  },
  {
   "cell_type": "code",
   "execution_count": 6,
   "metadata": {},
   "outputs": [
    {
     "name": "stdout",
     "output_type": "stream",
     "text": [
      " Here's a post about machine learning: Traditional supervised machine learning algorithms are the foundation of machine learning, and revisiting these classic algorithms can provide a fresh perspective on the basics. This beginner-friendly blog post explores the secrets of traditional algorithms in a simple and accessible way, making it perfect for those new to machine learning or looking to brush up on their knowledge. Whether you're a data scientist or just starting out, this resource is designed to provide a comprehensive introduction to machine learning.  # machinelearning # supervisedlearning # datascience  [ url ]  [ url ]  [ url ]  [ url ]  [ url ]  [ url ]  [ url ]  [ url ]  [ url ]  [ url ]  [ url ]  [ url ]  [ url ]  [ url ]  [ url ]  [ url ]  [ url ]  [ url ]  [ url ]  [ url ]  [ url ]  [ url ]  [ url ]  ["
     ]
    }
   ],
   "source": [
    "# Now, stream the results for a query\n",
    "for chunk in rag_chain.stream(\"write a post about machine learning\"):\n",
    "    print(chunk, end=\"\", flush=True)"
   ]
  },
  {
   "cell_type": "code",
   "execution_count": 11,
   "metadata": {},
   "outputs": [
    {
     "data": {
      "text/html": [
       "\n",
       "        <div style=\"font-family: Arial, sans-serif; color: black; margin: 10px; padding: 20px; border-radius: 10px; background-color: #f3f3f3; box-shadow: 0 0 10px rgba(0,0,0,0.1);\">\n",
       "            <h2 style=\"color: #333;\">Post ID: Post_9</h2>\n",
       "            <h3 style=\"color: #555;\">Chunk ID: f0bb6a0d-c8fc-db21-dcec-ffc16395944d</h3>\n",
       "            <p><strong>Embedding Length:</strong> 384</p>\n",
       "        <p><strong>Score:</strong> 0.7324075</p><p><strong>Rerank Score:</strong> 0.4149913191795349</p>\n",
       "            <p><strong>Chunked Text:</strong> \" introducing cracking llm interview roadmap along with the free resources. if you ' re gearing up for a role in the world of large language models, having a solid game plan is key. i ' ve crafted a comprehensive roadmap to help you master the critical concepts and skills that top companies are looking for. moreover to learn all these skills so that you can add it your resume, i ' m attaching some free resources : 1. introduction to genai [ url ] getting started with llms [ url ] building llm applications using prompt engineering [ url ] building your rag system using llamaindex [ url ] all the llm experts to know their inputs on this post : dipanjan s. apoorv vishnoi sunil ray aishwarya naresh reganti bhaskarjit sarmah lewis walker arun prakash asokan kunal jain kirk borne, ph. d. # harshitahluwalia # rags # llms # genai # langchain # llamaindexmore \"</p>\n",
       "            <p><strong>Full Raw Text:</strong> \" Introducing Cracking LLM Interview roadmap along with the Free resources.If you're gearing up for a role in the world of Large Language Models, having a solid game plan is key. I've crafted a comprehensive roadmap to help you master the critical concepts and skills that top companies are looking for. Moreover to learn all these skills so that you can add it your resume, I'm attaching some free resources: 1. Introduction to GenAIhttps://lnkd.in/d4cBrbGH2. Getting started with LLMshttps://lnkd.in/ddcK_EWm3. Building LLM Applications using Prompt Engineeringhttps://lnkd.in/daRKCSSJ4. Building your RAG System using LlamaIndexhttps://lnkd.in/dFD5Ka2eTagging all the LLM experts to know their inputs on this post: Dipanjan S. Apoorv Vishnoi Sunil Ray Aishwarya Naresh Reganti Bhaskarjit Sarmah Lewis Walker ➲ Arun Prakash Asokan Kunal Jain Kirk Borne, Ph.D. #HarshitAhluwalia #RAGs #LLMs #GenAI #Langchain #Llamaindex…more \"</p>\n",
       "            \n",
       "        </div>"
      ],
      "text/plain": [
       "<IPython.core.display.HTML object>"
      ]
     },
     "metadata": {},
     "output_type": "display_data"
    },
    {
     "data": {
      "text/html": [
       "\n",
       "        <div style=\"font-family: Arial, sans-serif; color: black; margin: 10px; padding: 20px; border-radius: 10px; background-color: #f3f3f3; box-shadow: 0 0 10px rgba(0,0,0,0.1);\">\n",
       "            <h2 style=\"color: #333;\">Post ID: Post_13</h2>\n",
       "            <h3 style=\"color: #555;\">Chunk ID: dfe0a264-05d4-c03f-424c-6fc103e16f20</h3>\n",
       "            <p><strong>Embedding Length:</strong> 384</p>\n",
       "        <p><strong>Score:</strong> 0.75586545</p><p><strong>Rerank Score:</strong> -0.6658744812011719</p>\n",
       "            <p><strong>Chunked Text:</strong> \" get the inside scoop on the datahack summit 2024 experience! hear firsthand about the highlights of dhs 2024, including : genai and hack sessions keynotes and power talks workshops networking and ai booths genai playground gen ai hack paneldhs 2024 is bigger, better, and more exciting than ever! don ' t miss out on this opportunity to gain valuable insights, unmatched networking opportunities, and cutting - edge genai knowledge : [ url ] jain divya jain sunil ray simran jasbir singh anand mishra apoorv vishnoi mukesh rathi shveta gupta ram dewani harshit ahluwalia dipanjan s. # analyticsvidhya # datahacksummit2024 # generativeaimore \"</p>\n",
       "            <p><strong>Full Raw Text:</strong> \" Get the inside scoop on the DataHack Summit 2024 experience! 🔥Hear firsthand about the highlights of DHS 2024, including:💡 GenAI and Hack Sessions🗣️ Keynotes and Power Talks🛠️ Workshops🤝 Networking and AI Booths🎉 GenAI Playground🆕 Gen AI Hack PanelDHS 2024 is Bigger, Better, and more Exciting than ever! Don't miss out on this opportunity to gain valuable insights, unmatched networking opportunities, and cutting-edge GenAI knowledge: https://lnkd.in/g9hgd3fAKunal Jain Divya Jain Sunil Ray Simran Jasbir Singh Anand Mishra Apoorv Vishnoi Mukesh Rathi Shveta Gupta Ram Dewani Harshit Ahluwalia Dipanjan S.#AnalyticsVidhya #DataHackSummit2024 #GenerativeAI…more \"</p>\n",
       "            \n",
       "        </div>"
      ],
      "text/plain": [
       "<IPython.core.display.HTML object>"
      ]
     },
     "metadata": {},
     "output_type": "display_data"
    },
    {
     "data": {
      "text/html": [
       "\n",
       "        <div style=\"font-family: Arial, sans-serif; color: black; margin: 10px; padding: 20px; border-radius: 10px; background-color: #f3f3f3; box-shadow: 0 0 10px rgba(0,0,0,0.1);\">\n",
       "            <h2 style=\"color: #333;\">Post ID: Post_16</h2>\n",
       "            <h3 style=\"color: #555;\">Chunk ID: b04dfbb8-1ede-f71c-c915-da4d56d17262</h3>\n",
       "            <p><strong>Embedding Length:</strong> 384</p>\n",
       "        <p><strong>Score:</strong> 0.8293491</p><p><strong>Rerank Score:</strong> -0.9487093091011047</p>\n",
       "            <p><strong>Chunked Text:</strong> \" last chance : only 30 seats left for genai meetup - act fast! join us for an exciting genai meetups happening at bangalore, chennai and hyderabad on 23rd september. topics covered : rag, ragas, llamaindex, large language models, nvidia genai full stack and much more! register for free : chennai chapter : [ url ] chapter : [ url ] chapter : [ url ] # datascience # chennai # datascience # aimore \"</p>\n",
       "            <p><strong>Full Raw Text:</strong> \" ⚠️ Last Chance: Only 30 Seats Left for GenAI Meetup - Act Fast! 🏃‍♂️Join us for an exciting GenAI meetups happening at Bangalore, Chennai and Hyderabad on 23rd September.💡Topics Covered: RAG, RAGAS, LlamaIndex, Large Language Models, NVIDIA GenAI Full Stack\t and much more!🔗 Register for free: Chennai Chapter: https://lnkd.in/deRSrezkBangalore Chapter: https://lnkd.in/dPGNtD5BHyderabad Chapter: https://lnkd.in/dz6Hph_N#meetups #datascience #chennai #datascience #ai…more \"</p>\n",
       "            \n",
       "        </div>"
      ],
      "text/plain": [
       "<IPython.core.display.HTML object>"
      ]
     },
     "metadata": {},
     "output_type": "display_data"
    }
   ],
   "source": [
    "query_question = \"Posts about genAI\"\n",
    "retrieved_results = vectordb_retriever.search(query=query_question, limit=3, return_all=True)\n",
    "for post in retrieved_results[\"posts\"]:\n",
    "    vectordb_retriever.render_as_html(post)"
   ]
  },
  {
   "cell_type": "code",
   "execution_count": 12,
   "metadata": {},
   "outputs": [
    {
     "name": "stderr",
     "output_type": "stream",
     "text": [
      "100%|██████████| 1/1 [00:00<00:00,  1.30it/s]\n",
      "100%|██████████| 3/3 [00:02<00:00,  1.26it/s]\n"
     ]
    },
    {
     "data": {
      "image/png": "[encoded data removed]",
      "text/plain": [
       "<Figure size 1000x600 with 1 Axes>"
      ]
     },
     "metadata": {},
     "output_type": "display_data"
    }
   ],
   "source": [
    "visualizer.render(\n",
    "    embedded_queries=retrieved_results[\"embdedded_queries\"],\n",
    "    retrieved_posts=retrieved_results[\"posts\"],\n",
    ")"
   ]
  },
  {
   "cell_type": "code",
   "execution_count": 13,
   "metadata": {},
   "outputs": [
    {
     "data": {
      "text/html": [
       "\n",
       "        <div style=\"font-family: Arial, sans-serif; color: black; margin: 10px; padding: 20px; border-radius: 10px; background-color: #f3f3f3; box-shadow: 0 0 10px rgba(0,0,0,0.1);\">\n",
       "            <h2 style=\"color: #333;\">Post ID: Post_2</h2>\n",
       "            <h3 style=\"color: #555;\">Chunk ID: 1a433bae-f4ff-0b10-5273-a31bdff21133</h3>\n",
       "            <p><strong>Embedding Length:</strong> 384</p>\n",
       "        <p><strong>Score:</strong> 0.79403985</p><p><strong>Rerank Score:</strong> -2.5778684616088867</p>\n",
       "            <p><strong>Chunked Text:</strong> \" some nuggets of wisdom about the state of the llm market from a conversation with braintrust ceo ankur goyal from his appearance on the latent space podcast [ url ] there was a lot of other good stuff, but i just focused on the market, open source, openai, cloud vendors and so on. 1. open source usage : among customers running in production, it ' s less than 5 %. more of them were running fine - tuned models six months ago than they are right now. 2. on why openai is popular : one of the things that openai does, an extremely exceptional job of this, is availability, rate limits, and reliability. it ' s just not practical outside of openai to run use cases at scale in a lot of cases3. why cloud vendors are not dominating : it hasn ' t been a smooth journey for people to get the capacity on public clouds that they ' re able to get through openai directly... there are a lot of caveats, especially around access to the newest models. with azure early on, there ' s a lot of engineering that you need to do to actually get the equivalent of a single endpoint that you have with openai. 4. on gpu in \"</p>\n",
       "            <p><strong>Full Raw Text:</strong> \" Some nuggets of wisdom about the state of the LLM market from a conversation with Braintrust CEO Ankur Goyal from his appearance on the Latent Space podcast https://lnkd.in/gTRXgCb3. There was a lot of other good stuff, but I just focused on the market, open source, OpenAI, cloud vendors and so on.1. Open Source usage: Among customers running in production, it's less than 5%. More of them were running fine-tuned models six months ago than they are right now.2. On why OpenAI is popular: One of the things that OpenAI does, an extremely exceptional job of this, is availability, rate limits, and reliability. It's just not practical outside of OpenAI to run use cases at scale in a lot of cases3. Why cloud vendors are not dominating: It hasn't been a smooth journey for people to get the capacity on public clouds that they're able to get through OpenAI directly ... there are a lot of caveats, especially around access to the newest models. With Azure early on, there's a lot of engineering that you need to do to actually get the equivalent of a single endpoint that you have with OpenAI.4. On GPU inferencing market: ..people are making money today, and they're making money with really high margins.5. On AI applications: I think 50% of the use cases that we see are what I would call single prompt manipulations ... for example, if a customer finds a bug on Slack, we'll click a button and then file a linear ticket. And it auto generates a title for that ticket.6. Popularity of TypeScript for AI software building: probably north of 75% of the users that are running evals in Braintrust are using the TypeScript SDK7. Use of advanced code generating & executing agents: I don't know anyone who's doing that.8. Importance of tool calling: An overwhelming majority of the use cases that we see in production involve tool calling9. Fine-tuning: The outcome is not fine-tuning, it is can I automatically optimize my use case to perform better if I throw data at the problem? And fine-tuning is one of multiple ways to achieve that. There are a lot of cases now, especially with large context models, where in-context learning just beats fine-tuning10. On Claude popularity:  pre-Claude 3, it was close to 100% OpenAI. Post-Claude 3... every new project that people think about, they do evaluate OpenAI and Anthropic... almost everyone is using Anthropic and Sonnet 3.5 specifically for their side projects.…more \"</p>\n",
       "            \n",
       "        </div>"
      ],
      "text/plain": [
       "<IPython.core.display.HTML object>"
      ]
     },
     "metadata": {},
     "output_type": "display_data"
    },
    {
     "data": {
      "text/html": [
       "\n",
       "        <div style=\"font-family: Arial, sans-serif; color: black; margin: 10px; padding: 20px; border-radius: 10px; background-color: #f3f3f3; box-shadow: 0 0 10px rgba(0,0,0,0.1);\">\n",
       "            <h2 style=\"color: #333;\">Post ID: Post_54</h2>\n",
       "            <h3 style=\"color: #555;\">Chunk ID: f7b52433-072f-2af1-78de-7c720ff4bbe8</h3>\n",
       "            <p><strong>Embedding Length:</strong> 384</p>\n",
       "        <p><strong>Score:</strong> 0.7836756</p><p><strong>Rerank Score:</strong> -2.5831775665283203</p>\n",
       "            <p><strong>Chunked Text:</strong> \" my absolute favourite way to get a sense for various models without my own bias is to play the chatbot arena by lmsys ( [ url ] where i can see outputs from models without knowing what they are. lmsys then use user ' s rankings to construct a chess - style elo rating for llms - which, in my opinion, is a far stronger method of comparing models than dozens of obscure benchmarks that we don ' t understand. most up - to - date model ratings and more stats are here [ url ] observations on the current state of llms : - proprietary models are still the best - but some open source models are not too far behind - openai is still the king of llms and the gpt - 4turbo model has been an improvement over earlier gpt - 4 models - anthropic is a close second, but their models are getting worse. i think the reason is that claude ' s 2. 1 refusal rate is higher and users don ' t like that - mistral ' s new 8x7b mixture of experts model is the strongest open source model - huge opportunities for fine - tuning and further improvements - google ' s gemini pro - is a bit of a ' meh ' entry, solid \"</p>\n",
       "            <p><strong>Full Raw Text:</strong> \" My absolute favourite way to get a sense for various models without my own bias is to play the Chatbot Arena by Lmsys (https://arena.lmsys.org/) where I can see outputs from models without knowing what they are. Lmsys then use user's rankings to construct a chess-style Elo rating for LLMs - which, in my opinion, is a far stronger method of comparing models than dozens of obscure benchmarks that we don't understand.Most up-to-date model ratings and more stats are here https://lnkd.in/eyds7JszSome observations on the current state of LLMs: - Proprietary models are still the best - But some open source models are not too far behind - OpenAI is still the king of LLMs and the GPT-4Turbo model has been an improvement over earlier GPT-4 models  - Anthropic is a close second, but their models are getting worse. I think the reason is that Claude's 2.1 refusal rate is higher and users don't like that - Mistral's new 8x7b Mixture of Experts model is the strongest open source model - huge opportunities for fine-tuning and further improvements - Google's Gemini Pro - is a bit of a 'meh' entry, solid GPT-3.5 / Mistral level model, but nothing particularly additive - A number of open source models have benefited from Llama 2 (and will do from Mistral), they are also often tuned on GPT-4's outputs - Llama 2 70b itself though is not doing too well and it would be interesting what Meta can do with Llama 3 - it is really a must for them to beat Mistral at this pointIf you get 10 free minutes, it would be a good use of your time to get a feel for different models on the Chatbot Arena (https://arena.lmsys.org/) - you might be surprised!Update: if you want to have a look at the timelapse of the scores from May 2023 onwards, have a look at this post https://lnkd.in/eZhrnNDH…more \"</p>\n",
       "            \n",
       "        </div>"
      ],
      "text/plain": [
       "<IPython.core.display.HTML object>"
      ]
     },
     "metadata": {},
     "output_type": "display_data"
    },
    {
     "data": {
      "text/html": [
       "\n",
       "        <div style=\"font-family: Arial, sans-serif; color: black; margin: 10px; padding: 20px; border-radius: 10px; background-color: #f3f3f3; box-shadow: 0 0 10px rgba(0,0,0,0.1);\">\n",
       "            <h2 style=\"color: #333;\">Post ID: Post_54</h2>\n",
       "            <h3 style=\"color: #555;\">Chunk ID: 464fd722-36e2-3460-78f8-33fa5e8134e9</h3>\n",
       "            <p><strong>Embedding Length:</strong> 384</p>\n",
       "        <p><strong>Score:</strong> 0.7466564</p><p><strong>Rerank Score:</strong> -3.805864095687866</p>\n",
       "            <p><strong>Chunked Text:</strong> \" that - mistral ' s new 8x7b mixture of experts model is the strongest open source model - huge opportunities for fine - tuning and further improvements - google ' s gemini pro - is a bit of a ' meh ' entry, solid gpt - 3. 5 / mistral level model, but nothing particularly additive - a number of open source models have benefited from llama 2 ( and will do from mistral ), they are also often tuned on gpt - 4 ' s outputs - llama 2 70b itself though is not doing too well and it would be interesting what meta can do with llama 3 - it is really a must for them to beat mistral at this pointif you get 10 free minutes, it would be a good use of your time to get a feel for different models on the chatbot arena ( [ url ] - you might be surprised! update : if you want to have a look at the timelapse of the scores from may 2023 onwards, have a look at this post [ url ] \"</p>\n",
       "            <p><strong>Full Raw Text:</strong> \" My absolute favourite way to get a sense for various models without my own bias is to play the Chatbot Arena by Lmsys (https://arena.lmsys.org/) where I can see outputs from models without knowing what they are. Lmsys then use user's rankings to construct a chess-style Elo rating for LLMs - which, in my opinion, is a far stronger method of comparing models than dozens of obscure benchmarks that we don't understand.Most up-to-date model ratings and more stats are here https://lnkd.in/eyds7JszSome observations on the current state of LLMs: - Proprietary models are still the best - But some open source models are not too far behind - OpenAI is still the king of LLMs and the GPT-4Turbo model has been an improvement over earlier GPT-4 models  - Anthropic is a close second, but their models are getting worse. I think the reason is that Claude's 2.1 refusal rate is higher and users don't like that - Mistral's new 8x7b Mixture of Experts model is the strongest open source model - huge opportunities for fine-tuning and further improvements - Google's Gemini Pro - is a bit of a 'meh' entry, solid GPT-3.5 / Mistral level model, but nothing particularly additive - A number of open source models have benefited from Llama 2 (and will do from Mistral), they are also often tuned on GPT-4's outputs - Llama 2 70b itself though is not doing too well and it would be interesting what Meta can do with Llama 3 - it is really a must for them to beat Mistral at this pointIf you get 10 free minutes, it would be a good use of your time to get a feel for different models on the Chatbot Arena (https://arena.lmsys.org/) - you might be surprised!Update: if you want to have a look at the timelapse of the scores from May 2023 onwards, have a look at this post https://lnkd.in/eZhrnNDH…more \"</p>\n",
       "            \n",
       "        </div>"
      ],
      "text/plain": [
       "<IPython.core.display.HTML object>"
      ]
     },
     "metadata": {},
     "output_type": "display_data"
    },
    {
     "data": {
      "text/html": [
       "\n",
       "        <div style=\"font-family: Arial, sans-serif; color: black; margin: 10px; padding: 20px; border-radius: 10px; background-color: #f3f3f3; box-shadow: 0 0 10px rgba(0,0,0,0.1);\">\n",
       "            <h2 style=\"color: #333;\">Post ID: Post_31</h2>\n",
       "            <h3 style=\"color: #555;\">Chunk ID: c7e192c3-0e0f-fa92-b71a-8eacd8c9f926</h3>\n",
       "            <p><strong>Embedding Length:</strong> 384</p>\n",
       "        <p><strong>Score:</strong> 0.82157344</p><p><strong>Rerank Score:</strong> -3.929067850112915</p>\n",
       "            <p><strong>Chunked Text:</strong> \" steps a lot more and provide more accurate answers - training : it probably had some training improvements specifically focused on reasoning, maybe some kind of self play at some level what i think it isn ' t : - not gpt - 5 - it did not feel exceptionally smart, e. g. on more creative tests it wasn ' t really performing better than gpt - 4, some outputs still felt a little off at times ( but better than others ) - nothing to do with gpt - 2 - i think the removal of the dash is significant, it 100 % isn ' t a 1. 5b model and it won ' t be open source - not a small model - it ran very slowly when i used it, my guess is that it would have higher parameter count than gpt - 4 - overfit / recall training data - there were some examples of ascii art that it generated looked amazing, but then it was discovered that it just replicated training data. perhaps it was overparameterised on a relatively smaller dataset that was focused on reasoning? - cut off date november 2023 - not sure that it is significant, but this was said in the system messagehope we ' ll find out more about it soon, unfortunately you can ' t test \"</p>\n",
       "            <p><strong>Full Raw Text:</strong> \" Chatbot arena recently hosted a mysterious model called 'gpt2-chatbot', it had very positive first impressions, but we don't know much about it yet. I've tested it a bit before it went offline and I wanted to share my speculative take based on my own testing and reading some of the tea leaves.Firstly, the name 'gpt2-chatbot' - Sam Altman edited his tweet removing the dash from 'gpt-2' to 'gpt2' - while it might seem minor, it could be seen as a name for a new GPT architecture rather than a model version. What I think it is: - Very strong performer: in my blind testing, there wasn't a single time when I picked another model over gpt2-chatbot - it could possibly rank way above all other models in the arena, if they release the ratings - Strong Reasoning: this model seems to have specific emphasis on reasoning, it was breaking things up into steps a lot more and provide more accurate answers - Training: it probably had some training improvements specifically focused on reasoning, maybe some kind of self play at some level What I think it isn't:- Not GPT-5 - it did not feel exceptionally smart, e.g. on more creative tests it wasn't really performing better than GPT-4, some outputs still felt a little off at times (but better than others)- Nothing to do with GPT-2 - I think the removal of the dash is significant, it 100% isn't a 1.5b model and it won't be open source - Not a small model - it ran very slowly when I used it, my guess is that it would have higher parameter count than GPT-4 - Overfit / recall training data - there were some examples of ASCII art that it generated looked amazing, but then it was discovered that it just replicated training data. Perhaps it was overparameterised on a relatively smaller dataset that was focused on reasoning? - Cut off date November 2023 - not sure that it is significant, but this was said in the system messageHope we'll find out more about it soon, unfortunately you can't test it yourself since it was taken offline in the arena (chat.lmsys.org/) due to high demand, but perhaps they'll put it back up in the next day or so.…more \"</p>\n",
       "            \n",
       "        </div>"
      ],
      "text/plain": [
       "<IPython.core.display.HTML object>"
      ]
     },
     "metadata": {},
     "output_type": "display_data"
    },
    {
     "data": {
      "text/html": [
       "\n",
       "        <div style=\"font-family: Arial, sans-serif; color: black; margin: 10px; padding: 20px; border-radius: 10px; background-color: #f3f3f3; box-shadow: 0 0 10px rgba(0,0,0,0.1);\">\n",
       "            <h2 style=\"color: #333;\">Post ID: Post_5</h2>\n",
       "            <h3 style=\"color: #555;\">Chunk ID: a7f8ef62-f873-5382-452d-4912dd073ea5</h3>\n",
       "            <p><strong>Embedding Length:</strong> 384</p>\n",
       "        <p><strong>Score:</strong> 0.762447</p><p><strong>Rerank Score:</strong> -4.040831565856934</p>\n",
       "            <p><strong>Chunked Text:</strong> \" openai, on devday, released a model distillation process, that allows you to take responses from a big model ( e. g. o1 - preview ) and use them to fine - tune a smaller model, e. g. gpt - 4o - mini. this is not a new idea, model distillation has been going on for a while ( e. g. smaller llama models, gemini flash ), but it was always a fairly complicated & manual process for smaller developers to do. openai have made it simpler by introducing 2 new features - 1 ) storing completions ; 2 ) evaluations. that way, you can initially run an expensive model for your task ( e. g. o1 - preview ), store the responses automatically, evaluate automatically, select the best responses for fine - tuning and then fine - tune the smaller model. that way, if you compare o1 to gpt - 4o - mini, you can save 50x for input and 400x for output tokens. it still requires some work to get it to work well, but you are starting to see the future how there could be an ongoing self - improvement cycle, where the model is getting fine - tuned automatically by learning from the latest data \"</p>\n",
       "            <p><strong>Full Raw Text:</strong> \" OpenAI, on DevDay, released a Model Distillation process, that allows you to take responses from a big model (e.g. o1-preview) and use them to fine-tune a smaller model, e.g. GPT-4o-mini. This is not a new idea, model distillation has been going on for a while (e.g. smaller Llama models, Gemini Flash), but it was always a fairly complicated & manual process for smaller developers to do. OpenAI have made it simpler by introducing 2 new features - 1) storing completions; 2) evaluations.That way, you can initially run an expensive model for your task (e.g. o1-preview), store the responses automatically, evaluate automatically, select the best responses for fine-tuning and then fine-tune the smaller model. That way, if you compare o1 to GPT-4o-mini, you can save 50x for input and 400x for output tokens.It still requires some work to get it to work well, but you are starting to see the future how there could be an ongoing self-improvement cycle, where the model is getting fine-tuned automatically by learning from the latest data. We are not quite there though.…more \"</p>\n",
       "            \n",
       "        </div>"
      ],
      "text/plain": [
       "<IPython.core.display.HTML object>"
      ]
     },
     "metadata": {},
     "output_type": "display_data"
    }
   ],
   "source": [
    "query_post = \"\"\"𝗪𝗵𝗮𝘁 do you need to 𝗳𝗶𝗻𝗲-𝘁𝘂𝗻𝗲 an open-source 𝗟𝗟𝗠 to create your own 𝗳𝗶𝗻𝗮𝗻𝗰𝗶𝗮𝗹 𝗮𝗱𝘃𝗶𝘀𝗼𝗿?\\nThis is the 𝗟𝗟𝗠 𝗳𝗶𝗻𝗲-𝘁𝘂𝗻𝗶𝗻𝗴 𝗸𝗶𝘁 you must know ↓\n",
    "\\n𝗗𝗮𝘁𝗮𝘀𝗲𝘁\\nThe key component of any successful ML project is the data.\\nYou need a 100 - 1000 sample Q&A (questions & answers) dataset with financial scenarios.\n",
    "\\nThe best approach is to hire a bunch of experts to create it manually.\\nBut, for a PoC, that might get expensive & slow.\\nThe good news is that a method called \n",
    "\\\"𝘍𝘪𝘯𝘦𝘵𝘶𝘯𝘪𝘯𝘨 𝘸𝘪𝘵𝘩 𝘥𝘪𝘴𝘵𝘪𝘭𝘭𝘢𝘵𝘪𝘰𝘯\\\" exists.\\nIn a nutshell, this is how it works: \\\"Use a big & powerful LLM (e.g., GPT4) to generate your fine-tuning data. \n",
    "After, use this data to fine-tune a smaller model (e.g., Falcon 7B).\\\"\\nFor specializing smaller LLMs on specific use cases (e.g., financial advisors), \n",
    "this is an excellent method to kick off your project.\\n𝗣𝗿𝗲-𝘁𝗿𝗮𝗶𝗻𝗲𝗱 𝗼𝗽𝗲𝗻-𝘀𝗼𝘂𝗿𝗰𝗲 𝗟𝗟𝗠\\nYou never want to start training your LLM from scratch (or rarely).\\n\n",
    "Why? Because you need trillions of tokens & millions of $$$ in compute power.\\nYou want to fine-tune your LLM on your specific task.\\n\n",
    "he good news is that you can find a plethora of open-source LLMs on HuggingFace (e.g., Falcon, LLaMa, etc.)\\n\n",
    "𝗣𝗮𝗿𝗮𝗺𝗲𝘁𝗲𝗿 𝗲𝗳𝗳𝗶𝗰𝗶𝗲𝗻𝘁 𝗳𝗶𝗻𝗲-𝘁𝘂𝗻𝗶𝗻𝗴\\nAs LLMs are big... duh...\\n... they don't fit on a single GPU.\\n\n",
    "As you want only to fine-tune the LLM, the community invented clever techniques that quantize the LLM (to fit on a single GPU) and \n",
    "fine-tune only a set of smaller adapters.\\nOne popular approach is QLoRA, which can be implemented using HF's `𝘱𝘦𝘧𝘵` Python package.\\n𝗠𝗟𝗢𝗽𝘀\\n\n",
    "As you want your project to get to production, you have to integrate the following MLOps components:\\n\n",
    "- experiment tracker to monitor & compare your experiments\\n\n",
    "- model registry to version & share your models between the FTI pipelines\\n-\n",
    "prompts monitoring to debug & track complex chains\\n\n",
    "↳ All of them are available on ML platforms, such as Comet ML 🔗\\nhttps://lnkd.in/d7jNQz7m\\n𝗖𝗼𝗺𝗽𝘂𝘁𝗲 𝗽𝗹𝗮𝘁𝗳𝗼𝗿𝗺\\n\n",
    "The most common approach is to train your LLM on your on-prem Nivida GPUs cluster or rent them on cloud providers such as AWS, Paperspace, etc.\\n\n",
    "But what if I told you that there is an easier way?\\nThere is! It is called serverless.\\nFor example,\\nBeam\\nis a GPU serverless provider that \n",
    "makes deploying your training pipeline as easy as decorating your Python function with `@𝘢𝘱𝘱.𝘳𝘶𝘯()`.\\n\n",
    "Along with ease of deployment, you can easily add your training code to your CI/CD to add the final piece of the MLOps puzzle, \n",
    "called CT (continuous training).\\n↳ Beam: 🔗\\nhttps://lnkd.in/dedCaMDh\\n.\\n\n",
    "↳ To see all these components in action, check out my FREE 𝗛𝗮𝗻𝗱𝘀-𝗼𝗻 𝗟𝗟𝗠𝘀 𝗰𝗼𝘂𝗿𝘀𝗲 & give it a ⭐:  \n",
    "🔗\\nhttps://lnkd.in/dZgqtf8f\\nhashtag\\n#\\nmachinelearning\\nhashtag\\n#\\nmlops\\nhashtag\\n#\\ndatascience\"\"\"\n",
    "\n",
    "retrieved_results = vectordb_retriever.search(query=query_post, limit=5, return_all=True)\n",
    "for post in retrieved_results[\"posts\"]:\n",
    "    vectordb_retriever.render_as_html(post)"
   ]
  }
 ],
 "metadata": {
  "kernelspec": {
   "display_name": "venv",
   "language": "python",
   "name": "python3"
  },
  "language_info": {
   "codemirror_mode": {
    "name": "ipython",
    "version": 3
   },
   "file_extension": ".py",
   "mimetype": "text/x-python",
   "name": "python",
   "nbconvert_exporter": "python",
   "pygments_lexer": "ipython3",
   "version": "3.10.11"
  }
 },
 "nbformat": 4,
 "nbformat_minor": 2
}
